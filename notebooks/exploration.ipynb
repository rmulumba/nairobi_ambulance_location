{
 "metadata": {
  "language_info": {
   "codemirror_mode": {
    "name": "ipython",
    "version": 3
   },
   "file_extension": ".py",
   "mimetype": "text/x-python",
   "name": "python",
   "nbconvert_exporter": "python",
   "pygments_lexer": "ipython3",
   "version": 3
  },
  "orig_nbformat": 2
 },
 "nbformat": 4,
 "nbformat_minor": 2,
 "cells": [
  {
   "cell_type": "code",
   "execution_count": null,
   "metadata": {},
   "outputs": [],
   "source": [
    "import pandas as pd \n",
    "import numpy as np \n",
    "import matplotlib.pyplot as plt \n",
    "from sklearn.cluster import KMeans "
   ]
  },
  {
   "cell_type": "code",
   "execution_count": null,
   "metadata": {},
   "outputs": [],
   "source": [
    "data = pd.read_csv('../input/Train.csv', parse_dates=['datetime'])\n",
    "data.head()"
   ]
  },
  {
   "cell_type": "code",
   "execution_count": null,
   "metadata": {},
   "outputs": [],
   "source": [
    "data.tail()"
   ]
  },
  {
   "cell_type": "code",
   "execution_count": null,
   "metadata": {},
   "outputs": [],
   "source": [
    "ss = pd.read_csv('../input/SampleSubmission.csv', parse_dates=['date'])\n",
    "print(ss.shape)\n",
    "display(ss.tail())"
   ]
  },
  {
   "cell_type": "code",
   "execution_count": null,
   "metadata": {},
   "outputs": [],
   "source": [
    "bins = [0, 3, 6, 9, 12, 15, 18, 21, 24]\n",
    "labels_ = ['00:00:00 - 02:59:59', '03:00:00 - 05:59:59', \n",
    "          '06:00:00 - 08:59:59', '09:00:00 - 11:59:59',\n",
    "          '12:00:00 - 14:59:59', '15:00:00 - 17:59:59',\n",
    "          '18:00:00 - 20:59:59', '21:00:00 - 23:59:59']\n",
    "\n",
    "labels = ['0-3', '3-6', '6-9', '9-12', '12-15', '15-18', '18-21', '21-24']\n",
    "\n",
    "data['time_bin'] = pd.cut(data.datetime.dt.hour, bins, labels=labels, right=False)\n",
    "display(data.head(10))"
   ]
  },
  {
   "cell_type": "code",
   "execution_count": null,
   "metadata": {},
   "outputs": [],
   "source": [
    "ss['time_bin'] = pd.cut(ss.date.dt.hour, bins, labels=labels, right=False)\n",
    "display(ss.head(5))"
   ]
  },
  {
   "cell_type": "code",
   "execution_count": null,
   "metadata": {},
   "outputs": [],
   "source": [
    "data['day'] = data['datetime'].dt.day_name()\n",
    "display(data.tail())"
   ]
  },
  {
   "cell_type": "code",
   "execution_count": null,
   "metadata": {},
   "outputs": [],
   "source": [
    "ss['day'] = ss['date'].dt.day_name()\n",
    "display(ss.tail())"
   ]
  },
  {
   "cell_type": "code",
   "execution_count": null,
   "metadata": {},
   "outputs": [],
   "source": [
    "accidents_per_day = data['day'].value_counts(normalize=True)\n",
    "print(accidents_per_day)"
   ]
  },
  {
   "cell_type": "code",
   "execution_count": null,
   "metadata": {},
   "outputs": [],
   "source": [
    "accidents_per_day.plot(kind='bar', figsize=(12, 6), title='Total Accidents per day')\n",
    "plt.xlabel('Day of the week')\n",
    "plt.ylabel('Number of accidents')\n",
    "plt.show()"
   ]
  },
  {
   "cell_type": "code",
   "execution_count": null,
   "metadata": {},
   "outputs": [],
   "source": [
    "accidents_per_time_interval = data['time_bin'].value_counts(normalize=True)\n",
    "\n",
    "accidents_per_time_interval.plot(kind='bar', figsize=(12, 6), title='Total Accidents per three hour interval')\n",
    "plt.xlabel('Time of the day')\n",
    "plt.ylabel('Number of accidents')\n",
    "plt.show()"
   ]
  },
  {
   "cell_type": "code",
   "execution_count": null,
   "metadata": {},
   "outputs": [],
   "source": [
    "accidents_on_tuesday = data[(data['day'] == 'Tuesday')]\n",
    "accidents_on_tuesday_count = accidents_on_tuesday['time_bin'].value_counts(normalize=True)\n",
    "accidents_on_tuesday_count.plot(kind='bar', figsize=(12, 6), title='Accidents on Tuesdays')\n",
    "plt.xlabel('Time of the day')\n",
    "plt.ylabel('Number of accidents')\n",
    "plt.show()"
   ]
  },
  {
   "cell_type": "code",
   "execution_count": null,
   "metadata": {},
   "outputs": [],
   "source": [
    "accidents_on_wednesday = data[(data['day'] == 'Wednesday')]\n",
    "accidents_on_wednesday_count = accidents_on_wednesday['time_bin'].value_counts(normalize=True)\n",
    "accidents_on_wednesday_count.plot(kind='bar', figsize=(12, 6), title='Accidents on Wednesdays')\n",
    "plt.xlabel('Time of the day')\n",
    "plt.ylabel('Number of accidents')\n",
    "plt.show()"
   ]
  },
  {
   "cell_type": "code",
   "execution_count": null,
   "metadata": {},
   "outputs": [],
   "source": [
    "accidents_on_tuesday = accidents_on_tuesday[['longitude', 'latitude']]\n",
    "\n",
    "ax = plt.gca()\n",
    "accidents_on_tuesday.plot(x='longitude', y='latitude', kind='scatter', figsize=(12, 12), alpha=0.3, title='Crash Locations', color='r', ax=ax)\n",
    "plt.show()"
   ]
  },
  {
   "cell_type": "code",
   "execution_count": null,
   "metadata": {},
   "outputs": [],
   "source": [
    "kmeans = KMeans( n_clusters=6, init='k-means++', algorithm='full')\n",
    "#data_ = data[['longitude', 'latitude']]\n",
    "y_kmeans = kmeans.fit_predict(accidents_on_tuesday)\n",
    "ax = plt.gca()\n",
    "accidents_on_tuesday[y_kmeans==0].plot(x='longitude', y='latitude', kind='scatter', \n",
    "                     figsize=(12, 12), alpha=0.3, title='Crash Locations', color='green', ax=ax)\n",
    "accidents_on_tuesday[y_kmeans==1].plot(x='longitude', y='latitude', kind='scatter', \n",
    "                     figsize=(12, 12), alpha=0.3, title='Crash Locations', color='blue', ax=ax)\n",
    "accidents_on_tuesday[y_kmeans==2].plot(x='longitude', y='latitude', kind='scatter', \n",
    "                     figsize=(12, 12), alpha=0.3, title='Crash Locations', color='red', ax=ax)\n",
    "accidents_on_tuesday[y_kmeans==3].plot(x='longitude', y='latitude', kind='scatter', \n",
    "                     figsize=(12, 12), alpha=0.3, title='Crash Locations', color='brown', ax=ax)\n",
    "accidents_on_tuesday[y_kmeans==4].plot(x='longitude', y='latitude', kind='scatter', \n",
    "                     figsize=(12, 12), alpha=0.3, title='Crash Locations', color='cyan', ax=ax)\n",
    "accidents_on_tuesday[y_kmeans==5].plot(x='longitude', y='latitude', kind='scatter', \n",
    "                     figsize=(12, 12), alpha=0.3, title='Crash Locations', color='magenta', ax=ax)\n",
    "\n",
    "plt.scatter(kmeans.cluster_centers_[:, 0], kmeans.cluster_centers_[:, 1], s=50, c='black', label = 'Centroids')\n",
    "plt.show()"
   ]
  },
  {
   "cell_type": "code",
   "execution_count": null,
   "metadata": {},
   "outputs": [],
   "source": [
    "day_names = ['Monday', 'Tuesday', 'Wednesday', 'Thursday', 'Friday', 'Saturday', 'Sunday']\n",
    "bins = labels"
   ]
  },
  {
   "cell_type": "code",
   "execution_count": null,
   "metadata": {},
   "outputs": [],
   "source": [
    "cluster_data = []\n",
    "\n",
    "for idx, day in enumerate(day_names):\n",
    "    for idy, time_bin in enumerate(bins):\n",
    "        data_selected = data[(\n",
    "            data['day'] == day_names[idx]) & \n",
    "            (data['time_bin'] == bins[idy]) &\n",
    "            (data['latitude'] >= -2.0 ) & \n",
    "            (data['longitude'] <= 37.4)\n",
    "        ]\n",
    "        kmeans = KMeans(n_clusters=6, init ='k-means++', max_iter=300, random_state=42, algorithm='full')\n",
    "        kmeans.fit(data_selected[['latitude', 'longitude']])\n",
    "        #cluster_data.append([day, bin_, *kmeans.cluster_centers_])\n",
    "        cluster_data.append([day, time_bin, *(np.concatenate(kmeans.cluster_centers_).flatten())])\n",
    "        \n",
    "cluster_df = pd.DataFrame(cluster_data)\n",
    "cluster_df.columns = ['Day', 'time_bin',\n",
    "                      'A0_Latitude', 'A0_Longitude', \n",
    "                      'A1_Latitude', 'A1_Longitude', \n",
    "                      'A2_Latitude', 'A2_Longitude', \n",
    "                      'A3_Latitude', 'A3_Longitude', \n",
    "                      'A4_Latitude', 'A4_Longitude', \n",
    "                      'A5_Latitude', 'A5_Longitude' ]\n",
    "\n",
    "new_df.to_csv('submission_final_1.csv', index=False)"
   ]
  },
  {
   "cell_type": "code",
   "execution_count": null,
   "metadata": {},
   "outputs": [],
   "source": [
    "ss_new = ss[['date', 'time_bin', 'day']]\n",
    "display(ss_new)"
   ]
  },
  {
   "cell_type": "code",
   "execution_count": null,
   "metadata": {},
   "outputs": [],
   "source": [
    "new_df = pd.merge(ss_new, cluster_df,  how='left', left_on=['day', 'time_bin'], right_on = ['Day', 'time_bin'])\n",
    "new_df = new_df.drop(columns=['time_bin', 'day', 'Day'])\n",
    "display(new_df.head())  \n",
    "\n",
    "new_df.to_csv('submission_final_1.csv', index=False)"
   ]
  },
  {
   "cell_type": "code",
   "execution_count": null,
   "metadata": {},
   "outputs": [],
   "source": []
  }
 ]
}